{
  "nbformat": 4,
  "nbformat_minor": 0,
  "metadata": {
    "colab": {
      "name": "ML_wine_colab_kNN.ipynb",
      "version": "0.3.2",
      "provenance": [],
      "collapsed_sections": [],
      "include_colab_link": true
    },
    "kernelspec": {
      "name": "python3",
      "display_name": "Python 3"
    },
    "accelerator": "GPU"
  },
  "cells": [
    {
      "cell_type": "markdown",
      "metadata": {
        "id": "view-in-github",
        "colab_type": "text"
      },
      "source": [
        "<a href=\"https://colab.research.google.com/github/Lasttrader/LT_Machine-learning/blob/master/ML_wine_colab_kNN.ipynb\" target=\"_parent\"><img src=\"https://colab.research.google.com/assets/colab-badge.svg\" alt=\"Open In Colab\"/></a>"
      ]
    },
    {
      "cell_type": "markdown",
      "metadata": {
        "id": "3ZPHWER0TTZJ",
        "colab_type": "text"
      },
      "source": [
        "#Задача множественной классификации sklearn (k NN)"
      ]
    },
    {
      "cell_type": "code",
      "metadata": {
        "id": "sL-jilPoSICv",
        "colab_type": "code",
        "outputId": "9cd16315-3ca3-40ba-85ab-e24796144255",
        "colab": {
          "base_uri": "https://localhost:8080/",
          "height": 34
        }
      },
      "source": [
        "'''\n",
        "План:\n",
        "1. Загрузка данных\n",
        "2. Провекра данных\n",
        "3. Очистка\n",
        "4. Присвоение Х и У (значения метки)\n",
        "5. Создаем модель, определяем обучающую и проверочную выборки\n",
        "6. Создаем модель\n",
        "7. ОБучаем\n",
        "8. Проверяем\n",
        "9. Подбираем количество соседей и определяем наилучую точность\n",
        "\n",
        "'''\n",
        "\n",
        "# Импорт базы данных вина\n",
        "from sklearn.datasets import load_wine\n",
        "\n",
        "data_wine = load_wine()\n",
        "\n",
        "# задача множественной классификации - вина\n",
        "type(data_wine)"
      ],
      "execution_count": 0,
      "outputs": [
        {
          "output_type": "execute_result",
          "data": {
            "text/plain": [
              "sklearn.utils.Bunch"
            ]
          },
          "metadata": {
            "tags": []
          },
          "execution_count": 125
        }
      ]
    },
    {
      "cell_type": "code",
      "metadata": {
        "id": "56rTcre5UWPT",
        "colab_type": "code",
        "outputId": "d25b38e1-e6c4-415a-f567-9aac77d4b532",
        "colab": {
          "base_uri": "https://localhost:8080/",
          "height": 72
        }
      },
      "source": [
        "# Классы вина\n",
        "print(data_wine.target_names)\n",
        "print(data_wine.feature_names)\n"
      ],
      "execution_count": 0,
      "outputs": [
        {
          "output_type": "stream",
          "text": [
            "['class_0' 'class_1' 'class_2']\n",
            "['alcohol', 'malic_acid', 'ash', 'alcalinity_of_ash', 'magnesium', 'total_phenols', 'flavanoids', 'nonflavanoid_phenols', 'proanthocyanins', 'color_intensity', 'hue', 'od280/od315_of_diluted_wines', 'proline']\n"
          ],
          "name": "stdout"
        }
      ]
    },
    {
      "cell_type": "code",
      "metadata": {
        "id": "z5lb21HLUuJI",
        "colab_type": "code",
        "outputId": "4e4f6c98-c4f1-4e19-c3da-ef141bea5654",
        "colab": {
          "base_uri": "https://localhost:8080/",
          "height": 140
        }
      },
      "source": [
        "# Выводим дата сет данные\n",
        "print(data_wine.target)\n",
        "print(list(data_wine.target_names))\n",
        "print(data_wine.data.shape)"
      ],
      "execution_count": 0,
      "outputs": [
        {
          "output_type": "stream",
          "text": [
            "[0 0 0 0 0 0 0 0 0 0 0 0 0 0 0 0 0 0 0 0 0 0 0 0 0 0 0 0 0 0 0 0 0 0 0 0 0\n",
            " 0 0 0 0 0 0 0 0 0 0 0 0 0 0 0 0 0 0 0 0 0 0 1 1 1 1 1 1 1 1 1 1 1 1 1 1 1\n",
            " 1 1 1 1 1 1 1 1 1 1 1 1 1 1 1 1 1 1 1 1 1 1 1 1 1 1 1 1 1 1 1 1 1 1 1 1 1\n",
            " 1 1 1 1 1 1 1 1 1 1 1 1 1 1 1 1 1 1 1 2 2 2 2 2 2 2 2 2 2 2 2 2 2 2 2 2 2\n",
            " 2 2 2 2 2 2 2 2 2 2 2 2 2 2 2 2 2 2 2 2 2 2 2 2 2 2 2 2 2 2]\n",
            "['class_0', 'class_1', 'class_2']\n",
            "(178, 13)\n"
          ],
          "name": "stdout"
        }
      ]
    },
    {
      "cell_type": "code",
      "metadata": {
        "id": "jt3T7p-bV4dE",
        "colab_type": "code",
        "outputId": "7b25e937-e785-4d85-c39b-1d5ee0f2ba6a",
        "colab": {
          "base_uri": "https://localhost:8080/",
          "height": 34
        }
      },
      "source": [
        "\n",
        "X = data_wine.data # значения\n",
        "\n",
        "y = data_wine.target # классы\n",
        "\n",
        "X.shape\n"
      ],
      "execution_count": 0,
      "outputs": [
        {
          "output_type": "execute_result",
          "data": {
            "text/plain": [
              "(178, 13)"
            ]
          },
          "metadata": {
            "tags": []
          },
          "execution_count": 128
        }
      ]
    },
    {
      "cell_type": "code",
      "metadata": {
        "id": "o6maPkfSWmLz",
        "colab_type": "code",
        "outputId": "7f293377-5ea2-48f7-a27b-7de033749dc0",
        "colab": {
          "base_uri": "https://localhost:8080/",
          "height": 281
        }
      },
      "source": [
        "X[:5]"
      ],
      "execution_count": 0,
      "outputs": [
        {
          "output_type": "execute_result",
          "data": {
            "text/plain": [
              "array([[1.423e+01, 1.710e+00, 2.430e+00, 1.560e+01, 1.270e+02, 2.800e+00,\n",
              "        3.060e+00, 2.800e-01, 2.290e+00, 5.640e+00, 1.040e+00, 3.920e+00,\n",
              "        1.065e+03],\n",
              "       [1.320e+01, 1.780e+00, 2.140e+00, 1.120e+01, 1.000e+02, 2.650e+00,\n",
              "        2.760e+00, 2.600e-01, 1.280e+00, 4.380e+00, 1.050e+00, 3.400e+00,\n",
              "        1.050e+03],\n",
              "       [1.316e+01, 2.360e+00, 2.670e+00, 1.860e+01, 1.010e+02, 2.800e+00,\n",
              "        3.240e+00, 3.000e-01, 2.810e+00, 5.680e+00, 1.030e+00, 3.170e+00,\n",
              "        1.185e+03],\n",
              "       [1.437e+01, 1.950e+00, 2.500e+00, 1.680e+01, 1.130e+02, 3.850e+00,\n",
              "        3.490e+00, 2.400e-01, 2.180e+00, 7.800e+00, 8.600e-01, 3.450e+00,\n",
              "        1.480e+03],\n",
              "       [1.324e+01, 2.590e+00, 2.870e+00, 2.100e+01, 1.180e+02, 2.800e+00,\n",
              "        2.690e+00, 3.900e-01, 1.820e+00, 4.320e+00, 1.040e+00, 2.930e+00,\n",
              "        7.350e+02]])"
            ]
          },
          "metadata": {
            "tags": []
          },
          "execution_count": 129
        }
      ]
    },
    {
      "cell_type": "code",
      "metadata": {
        "id": "8mtG-4ndcLTl",
        "colab_type": "code",
        "outputId": "c989c7e3-970b-4b32-fb4f-deefb997c976",
        "colab": {
          "base_uri": "https://localhost:8080/",
          "height": 34
        }
      },
      "source": [
        "y[:5]"
      ],
      "execution_count": 0,
      "outputs": [
        {
          "output_type": "execute_result",
          "data": {
            "text/plain": [
              "array([0, 0, 0, 0, 0])"
            ]
          },
          "metadata": {
            "tags": []
          },
          "execution_count": 130
        }
      ]
    },
    {
      "cell_type": "code",
      "metadata": {
        "id": "mLgIiXmfWuQm",
        "colab_type": "code",
        "colab": {}
      },
      "source": [
        "# модель\n",
        "\n",
        "from sklearn.model_selection import train_test_split\n",
        "\n",
        "# Создаем разбивку и перемешку\n",
        "X_train, X_test, y_train, y_test = train_test_split(X, y, test_size=0.2, random_state=42)"
      ],
      "execution_count": 0,
      "outputs": []
    },
    {
      "cell_type": "code",
      "metadata": {
        "id": "XeFzjexHW10U",
        "colab_type": "code",
        "outputId": "9cc18216-5a57-476c-ea81-4831f741cecd",
        "colab": {
          "base_uri": "https://localhost:8080/",
          "height": 52
        }
      },
      "source": [
        "# размерность множеств\n",
        "print(X_train.shape, y_train.shape) # обучение\n",
        "print(X_test.shape, y_test.shape) # проверка"
      ],
      "execution_count": 0,
      "outputs": [
        {
          "output_type": "stream",
          "text": [
            "(142, 13) (142,)\n",
            "(36, 13) (36,)\n"
          ],
          "name": "stdout"
        }
      ]
    },
    {
      "cell_type": "code",
      "metadata": {
        "id": "59-Ah_RBXBEf",
        "colab_type": "code",
        "outputId": "72e307b9-42b6-4815-fa88-898ca50f4d45",
        "colab": {
          "base_uri": "https://localhost:8080/",
          "height": 281
        }
      },
      "source": [
        "X_train[:5]\n"
      ],
      "execution_count": 0,
      "outputs": [
        {
          "output_type": "execute_result",
          "data": {
            "text/plain": [
              "array([[1.434e+01, 1.680e+00, 2.700e+00, 2.500e+01, 9.800e+01, 2.800e+00,\n",
              "        1.310e+00, 5.300e-01, 2.700e+00, 1.300e+01, 5.700e-01, 1.960e+00,\n",
              "        6.600e+02],\n",
              "       [1.253e+01, 5.510e+00, 2.640e+00, 2.500e+01, 9.600e+01, 1.790e+00,\n",
              "        6.000e-01, 6.300e-01, 1.100e+00, 5.000e+00, 8.200e-01, 1.690e+00,\n",
              "        5.150e+02],\n",
              "       [1.237e+01, 1.070e+00, 2.100e+00, 1.850e+01, 8.800e+01, 3.520e+00,\n",
              "        3.750e+00, 2.400e-01, 1.950e+00, 4.500e+00, 1.040e+00, 2.770e+00,\n",
              "        6.600e+02],\n",
              "       [1.348e+01, 1.670e+00, 2.640e+00, 2.250e+01, 8.900e+01, 2.600e+00,\n",
              "        1.100e+00, 5.200e-01, 2.290e+00, 1.175e+01, 5.700e-01, 1.780e+00,\n",
              "        6.200e+02],\n",
              "       [1.307e+01, 1.500e+00, 2.100e+00, 1.550e+01, 9.800e+01, 2.400e+00,\n",
              "        2.640e+00, 2.800e-01, 1.370e+00, 3.700e+00, 1.180e+00, 2.690e+00,\n",
              "        1.020e+03]])"
            ]
          },
          "metadata": {
            "tags": []
          },
          "execution_count": 133
        }
      ]
    },
    {
      "cell_type": "code",
      "metadata": {
        "id": "gYLGreqYXJOE",
        "colab_type": "code",
        "outputId": "a9e7aacc-4b39-49de-be5a-d078fe442627",
        "colab": {
          "base_uri": "https://localhost:8080/",
          "height": 34
        }
      },
      "source": [
        "y_train [:5]"
      ],
      "execution_count": 0,
      "outputs": [
        {
          "output_type": "execute_result",
          "data": {
            "text/plain": [
              "array([2, 2, 1, 2, 0])"
            ]
          },
          "metadata": {
            "tags": []
          },
          "execution_count": 134
        }
      ]
    },
    {
      "cell_type": "code",
      "metadata": {
        "id": "s7KZ_MXBXVs1",
        "colab_type": "code",
        "outputId": "32340e39-fcd0-438f-d1c0-23e4c1c2a80b",
        "colab": {
          "base_uri": "https://localhost:8080/",
          "height": 70
        }
      },
      "source": [
        "from sklearn.neighbors import KNeighborsClassifier\n",
        "# эвклидова метрика\n",
        "model = KNeighborsClassifier(n_neighbors=67, metric='euclidean') #'euclidean'\n",
        "model.fit(X_train,y_train)"
      ],
      "execution_count": 0,
      "outputs": [
        {
          "output_type": "execute_result",
          "data": {
            "text/plain": [
              "KNeighborsClassifier(algorithm='auto', leaf_size=30, metric='euclidean',\n",
              "                     metric_params=None, n_jobs=None, n_neighbors=67, p=2,\n",
              "                     weights='uniform')"
            ]
          },
          "metadata": {
            "tags": []
          },
          "execution_count": 135
        }
      ]
    },
    {
      "cell_type": "code",
      "metadata": {
        "id": "RFn5i9ZXXZQS",
        "colab_type": "code",
        "outputId": "ca16006e-c830-4ab8-aa9f-5d0124934c9b",
        "colab": {
          "base_uri": "https://localhost:8080/",
          "height": 34
        }
      },
      "source": [
        "y_pred = model.predict(X_test)\n",
        "len(y_pred)\n",
        "\n"
      ],
      "execution_count": 0,
      "outputs": [
        {
          "output_type": "execute_result",
          "data": {
            "text/plain": [
              "36"
            ]
          },
          "metadata": {
            "tags": []
          },
          "execution_count": 136
        }
      ]
    },
    {
      "cell_type": "code",
      "metadata": {
        "id": "X8cVVDc7c-hi",
        "colab_type": "code",
        "outputId": "01e0edd6-80ad-4771-97ab-893ab88cbcb8",
        "colab": {
          "base_uri": "https://localhost:8080/",
          "height": 34
        }
      },
      "source": [
        "len(y_test)"
      ],
      "execution_count": 0,
      "outputs": [
        {
          "output_type": "execute_result",
          "data": {
            "text/plain": [
              "36"
            ]
          },
          "metadata": {
            "tags": []
          },
          "execution_count": 137
        }
      ]
    },
    {
      "cell_type": "code",
      "metadata": {
        "id": "Dyv3tbkEdBC0",
        "colab_type": "code",
        "outputId": "b57c9b22-a51a-49d7-e4dd-25aace865699",
        "colab": {
          "base_uri": "https://localhost:8080/",
          "height": 34
        }
      },
      "source": [
        "# Анализ качества предикт accuracy_score - точность\n",
        "\n",
        "from sklearn.metrics import accuracy_score, balanced_accuracy_score\n",
        "\n",
        "# Выводим точность\n",
        "\n",
        "print('Accuracy: ',accuracy_score(y_test, y_pred), accuracy_score(y_test, y_pred, normalize=False))"
      ],
      "execution_count": 0,
      "outputs": [
        {
          "output_type": "stream",
          "text": [
            "Accuracy:  0.8333333333333334 30\n"
          ],
          "name": "stdout"
        }
      ]
    },
    {
      "cell_type": "markdown",
      "metadata": {
        "id": "nAzNa6Iffb7v",
        "colab_type": "text"
      },
      "source": [
        "**Вывод**\n",
        "\n",
        "Для эвклидовой метрики наилучший показатель n_neighbors=67 выдал Accuracy 0.833"
      ]
    },
    {
      "cell_type": "markdown",
      "metadata": {
        "id": "Q-beuY-Pf4bN",
        "colab_type": "text"
      },
      "source": [
        "**Метрика манхэттен**"
      ]
    },
    {
      "cell_type": "code",
      "metadata": {
        "id": "inVqubjpf3wo",
        "colab_type": "code",
        "outputId": "fc9fece8-4d5e-4277-f975-f0cd73e7a253",
        "colab": {
          "base_uri": "https://localhost:8080/",
          "height": 70
        }
      },
      "source": [
        "model = KNeighborsClassifier(n_neighbors=21, metric='manhattan') #'manhattan'\n",
        "model.fit(X_train,y_train)"
      ],
      "execution_count": 0,
      "outputs": [
        {
          "output_type": "execute_result",
          "data": {
            "text/plain": [
              "KNeighborsClassifier(algorithm='auto', leaf_size=30, metric='manhattan',\n",
              "                     metric_params=None, n_jobs=None, n_neighbors=21, p=2,\n",
              "                     weights='uniform')"
            ]
          },
          "metadata": {
            "tags": []
          },
          "execution_count": 139
        }
      ]
    },
    {
      "cell_type": "code",
      "metadata": {
        "id": "jN91BF9jgGFG",
        "colab_type": "code",
        "colab": {}
      },
      "source": [
        "y_pred = model.predict(X_test)"
      ],
      "execution_count": 0,
      "outputs": []
    },
    {
      "cell_type": "code",
      "metadata": {
        "id": "WPO1HV5hgJkN",
        "colab_type": "code",
        "outputId": "8aab625e-b061-4ce9-e163-9346df5568b7",
        "colab": {
          "base_uri": "https://localhost:8080/",
          "height": 34
        }
      },
      "source": [
        "print('Accuracy: ',accuracy_score(y_test, y_pred), accuracy_score(y_test, y_pred, normalize=False))"
      ],
      "execution_count": 0,
      "outputs": [
        {
          "output_type": "stream",
          "text": [
            "Accuracy:  0.7777777777777778 28\n"
          ],
          "name": "stdout"
        }
      ]
    },
    {
      "cell_type": "markdown",
      "metadata": {
        "id": "GsD52Q8ggOxA",
        "colab_type": "text"
      },
      "source": [
        "**Вывод**\n",
        "\n",
        "n = 67, acc = 0.8333 ;\n",
        "n = 50, acc = 0.8333 ;\n",
        "n = 80, acc = 0.7500 ;\n",
        "n = 27, acc = 0.8055 ;\n",
        "n = 100, acc = 0.7777; \n",
        "n = 21, acc = 0.7777\n",
        "\n",
        "Наилучший показатель n  = 67\n",
        "\n"
      ]
    }
  ]
}